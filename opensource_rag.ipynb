{
 "cells": [
  {
   "cell_type": "markdown",
   "metadata": {},
   "source": [
    "# All imports and inits"
   ]
  },
  {
   "cell_type": "code",
   "execution_count": null,
   "metadata": {},
   "outputs": [],
   "source": [
    "from langchain.document_loaders.pdf import PyPDFDirectoryLoader\n",
    "from dotenv import load_dotenv\n",
    "from langchain_text_splitters import RecursiveCharacterTextSplitter\n",
    "from langchain.schema.document import Document\n",
    "from pinecone import Pinecone, ServerlessSpec\n",
    "import os\n",
    "\n",
    "# Load environment variables from .env file\n",
    "load_dotenv()\n",
    "\n",
    "DATA_PATH = os.getenv(\"DATA_PATH\")\n",
    "PINECONE_API = os.getenv(\"PINECONE_API\")\n",
    "\n",
    "print(\"PINECONE_API\", PINECONE_API)\n",
    "\n"
   ]
  },
  {
   "cell_type": "markdown",
   "metadata": {},
   "source": [
    "# PDF loader"
   ]
  },
  {
   "cell_type": "code",
   "execution_count": null,
   "metadata": {},
   "outputs": [],
   "source": [
    "\n",
    "\n",
    "def load_documents():\n",
    "    document_loader = PyPDFDirectoryLoader(DATA_PATH)\n",
    "    return document_loader.load()\n",
    "\n",
    "\n",
    "documents = load_documents()\n",
    "documents[0]\n"
   ]
  },
  {
   "cell_type": "markdown",
   "metadata": {},
   "source": [
    "# Text Splitting \\ Chunking using Langchain"
   ]
  },
  {
   "cell_type": "code",
   "execution_count": 30,
   "metadata": {},
   "outputs": [
    {
     "data": {
      "text/plain": [
       "Document(metadata={'producer': 'Nitro Pro  (11. 0. 1. 10)', 'creator': 'Nitro Pro  (11. 0. 1. 10)', 'creationdate': '2025-03-09T10:44:04+00:00', 'moddate': '2025-03-09T15:44:28+05:00', 'title': 'PowerPoint Presentation', 'author': 'James Kurose', 'source': 'D:\\\\Disrupt Labs\\\\Rag Experiments\\\\env\\\\Rag-pipelines-experiments\\\\data\\\\4.1_video_slides.pdf', 'total_pages': 12, 'page': 0, 'page_label': '1'}, page_content='Network Layer:\\nData Plane\\n\\uf0a7 Overview of Network Layer\\n\\uf0a7 What’s Inside a Router?\\n\\uf0a7 The Internet Protocol: IPv4, Addressing, NAT\\nIPv6\\n\\uf0a7 Generalized Forwarding and SDN\\n\\uf0a7 Middleboxes\\n\\uf0a7 Summary\\nCOMPSCI 453 Computer Networks\\nProfessor Jim Kurose\\nCollege of Information and Computer Sciences\\nUniversity of Massachusetts\\nClass textbook:\\nComputer Networking: A Top-\\nDown Approach (8th ed.)\\nJ.F. Kurose, K.W . Ross\\nPearson, 2020\\nhttp://gaia.cs.umass.edu/kurose_ross')"
      ]
     },
     "execution_count": 30,
     "metadata": {},
     "output_type": "execute_result"
    }
   ],
   "source": [
    "\n",
    "\n",
    "def split_documents(documents):\n",
    "    text_splitter = RecursiveCharacterTextSplitter(\n",
    "        # Set a really small chunk size, just to show.\n",
    "        chunk_size = 800,\n",
    "        chunk_overlap  = 80,\n",
    "        length_function = len,\n",
    "        is_separator_regex = False # considers separators like '\\n\\n'if true\n",
    "    )\n",
    "    docs = text_splitter.split_documents(documents)\n",
    "    return docs\n",
    "\n",
    "\n",
    "chunks = split_documents(documents)\n",
    "chunks[0]\n"
   ]
  },
  {
   "cell_type": "markdown",
   "metadata": {},
   "source": [
    "# Creating Embeddings and Index via Pinecone \n",
    "\n",
    "- Creating a serverless index"
   ]
  },
  {
   "cell_type": "code",
   "execution_count": null,
   "metadata": {},
   "outputs": [],
   "source": [
    "from pinecone import Pinecone, ServerlessSpec\n",
    "\n",
    "\n",
    "#  --------------- initialize pinecone -----------------------------\n",
    "pc = Pinecone(api_key=PINECONE_API)\n",
    "print(PINECONE_API)\n",
    "pc.create_index_for_model(\n",
    "    name=\"test-index\",\n",
    "    cloud=\"aws\",\n",
    "    region=\"us-east-1\",\n",
    "    embed={\n",
    "        \"model\":\"llama-text-embed-v2\",\n",
    "        \"field_map\":{\"text\": \"page_content\"}\n",
    "    }\n",
    ")\n"
   ]
  },
  {
   "cell_type": "markdown",
   "metadata": {},
   "source": [
    "# Upsert Data to Pinecone"
   ]
  },
  {
   "cell_type": "code",
   "execution_count": null,
   "metadata": {},
   "outputs": [
    {
     "ename": "ListConversionException",
     "evalue": "Expected a list or list-like data structure, but got: Link Layer\nCOMPSCI 453 Computer Networks\nProfessor Jim Kurose\nCollege of Information and Computer Sciences\nUniversity of Massachusetts\nClass textbook:\nComputer Networking: A Top-\nDown Approach (8th ed.)\nJ.F. Kurose, K.W . Ross\nPearson, 2020\nhttp://gaia.cs.umass.edu/kurose_ross\nVideo:     2020, J.F. Kurose, All Rights Reserved\nPowerpoint:    1996-2020, J.F. Kurose, K.W. Ross, All Rights Reserved\n Introduction to the Link Layer\n Error-detection and -correction Techniques\n Multiple Access Links and Protocols\n Switched Local Area Networks\n Link Virtualization: a Network as a Link Layer\n Data Center Networking\n Retrospective: A Day in the Life of a Web Page Request",
     "output_type": "error",
     "traceback": [
      "\u001b[31m---------------------------------------------------------------------------\u001b[39m",
      "\u001b[31mListConversionException\u001b[39m                   Traceback (most recent call last)",
      "\u001b[36mCell\u001b[39m\u001b[36m \u001b[39m\u001b[32mIn[31]\u001b[39m\u001b[32m, line 35\u001b[39m\n\u001b[32m     32\u001b[39m     index.upsert(vectors)\n\u001b[32m     34\u001b[39m \u001b[38;5;66;03m# Upsert the chunks to Pinecone\u001b[39;00m\n\u001b[32m---> \u001b[39m\u001b[32m35\u001b[39m \u001b[43mupsert_chunks_to_pinecone\u001b[49m\u001b[43m(\u001b[49m\u001b[38;5;28;43mlist\u001b[39;49m\u001b[43m(\u001b[49m\u001b[43mchunks\u001b[49m\u001b[43m)\u001b[49m\u001b[43m)\u001b[49m\n",
      "\u001b[36mCell\u001b[39m\u001b[36m \u001b[39m\u001b[32mIn[31]\u001b[39m\u001b[32m, line 32\u001b[39m, in \u001b[36mupsert_chunks_to_pinecone\u001b[39m\u001b[34m(chunks, index_name)\u001b[39m\n\u001b[32m     23\u001b[39m     vectors.append(vector)\n\u001b[32m     24\u001b[39m     \u001b[38;5;66;03m# Upsert the chunk into Pinecone\u001b[39;00m\n\u001b[32m     25\u001b[39m     \u001b[38;5;66;03m# pc.upsert(\u001b[39;00m\n\u001b[32m     26\u001b[39m     \u001b[38;5;66;03m#     index=index_name,\u001b[39;00m\n\u001b[32m   (...)\u001b[39m\u001b[32m     30\u001b[39m \u001b[38;5;66;03m# for ids_vectors_chunk in chunker(vectors, batch_size=200):\u001b[39;00m\n\u001b[32m     31\u001b[39m \u001b[38;5;66;03m#     index.upsert(vectors=ids_vectors_chunk}) \u001b[39;00m\n\u001b[32m---> \u001b[39m\u001b[32m32\u001b[39m \u001b[43mindex\u001b[49m\u001b[43m.\u001b[49m\u001b[43mupsert\u001b[49m\u001b[43m(\u001b[49m\u001b[43mvectors\u001b[49m\u001b[43m)\u001b[49m\n",
      "\u001b[36mFile \u001b[39m\u001b[32md:\\Disrupt Labs\\Rag Experiments\\env\\Lib\\site-packages\\pinecone\\utils\\error_handling.py:11\u001b[39m, in \u001b[36mvalidate_and_convert_errors.<locals>.inner_func\u001b[39m\u001b[34m(*args, **kwargs)\u001b[39m\n\u001b[32m      8\u001b[39m \u001b[38;5;129m@wraps\u001b[39m(func)\n\u001b[32m      9\u001b[39m \u001b[38;5;28;01mdef\u001b[39;00m\u001b[38;5;250m \u001b[39m\u001b[34minner_func\u001b[39m(*args, **kwargs):\n\u001b[32m     10\u001b[39m     \u001b[38;5;28;01mtry\u001b[39;00m:\n\u001b[32m---> \u001b[39m\u001b[32m11\u001b[39m         \u001b[38;5;28;01mreturn\u001b[39;00m \u001b[43mfunc\u001b[49m\u001b[43m(\u001b[49m\u001b[43m*\u001b[49m\u001b[43margs\u001b[49m\u001b[43m,\u001b[49m\u001b[43m \u001b[49m\u001b[43m*\u001b[49m\u001b[43m*\u001b[49m\u001b[43mkwargs\u001b[49m\u001b[43m)\u001b[49m\n\u001b[32m     12\u001b[39m     \u001b[38;5;28;01mexcept\u001b[39;00m MaxRetryError \u001b[38;5;28;01mas\u001b[39;00m e:\n\u001b[32m     13\u001b[39m         \u001b[38;5;28;01mif\u001b[39;00m \u001b[38;5;28misinstance\u001b[39m(e.reason, ProtocolError):\n",
      "\u001b[36mFile \u001b[39m\u001b[32md:\\Disrupt Labs\\Rag Experiments\\env\\Lib\\site-packages\\pinecone\\data\\index.py:141\u001b[39m, in \u001b[36mIndex.upsert\u001b[39m\u001b[34m(self, vectors, namespace, batch_size, show_progress, **kwargs)\u001b[39m\n\u001b[32m    134\u001b[39m     \u001b[38;5;28;01mraise\u001b[39;00m \u001b[38;5;167;01mValueError\u001b[39;00m(\n\u001b[32m    135\u001b[39m         \u001b[33m\"\u001b[39m\u001b[33masync_req is not supported when batch_size is provided.\u001b[39m\u001b[33m\"\u001b[39m\n\u001b[32m    136\u001b[39m         \u001b[33m\"\u001b[39m\u001b[33mTo upsert in parallel, please follow: \u001b[39m\u001b[33m\"\u001b[39m\n\u001b[32m    137\u001b[39m         \u001b[33m\"\u001b[39m\u001b[33mhttps://docs.pinecone.io/docs/insert-data#sending-upserts-in-parallel\u001b[39m\u001b[33m\"\u001b[39m\n\u001b[32m    138\u001b[39m     )\n\u001b[32m    140\u001b[39m \u001b[38;5;28;01mif\u001b[39;00m batch_size \u001b[38;5;129;01mis\u001b[39;00m \u001b[38;5;28;01mNone\u001b[39;00m:\n\u001b[32m--> \u001b[39m\u001b[32m141\u001b[39m     \u001b[38;5;28;01mreturn\u001b[39;00m \u001b[38;5;28;43mself\u001b[39;49m\u001b[43m.\u001b[49m\u001b[43m_upsert_batch\u001b[49m\u001b[43m(\u001b[49m\u001b[43mvectors\u001b[49m\u001b[43m,\u001b[49m\u001b[43m \u001b[49m\u001b[43mnamespace\u001b[49m\u001b[43m,\u001b[49m\u001b[43m \u001b[49m\u001b[43m_check_type\u001b[49m\u001b[43m,\u001b[49m\u001b[43m \u001b[49m\u001b[43m*\u001b[49m\u001b[43m*\u001b[49m\u001b[43mkwargs\u001b[49m\u001b[43m)\u001b[49m\n\u001b[32m    143\u001b[39m \u001b[38;5;28;01mif\u001b[39;00m \u001b[38;5;129;01mnot\u001b[39;00m \u001b[38;5;28misinstance\u001b[39m(batch_size, \u001b[38;5;28mint\u001b[39m) \u001b[38;5;129;01mor\u001b[39;00m batch_size <= \u001b[32m0\u001b[39m:\n\u001b[32m    144\u001b[39m     \u001b[38;5;28;01mraise\u001b[39;00m \u001b[38;5;167;01mValueError\u001b[39;00m(\u001b[33m\"\u001b[39m\u001b[33mbatch_size must be a positive integer\u001b[39m\u001b[33m\"\u001b[39m)\n",
      "\u001b[36mFile \u001b[39m\u001b[32md:\\Disrupt Labs\\Rag Experiments\\env\\Lib\\site-packages\\pinecone\\data\\index.py:168\u001b[39m, in \u001b[36mIndex._upsert_batch\u001b[39m\u001b[34m(self, vectors, namespace, _check_type, **kwargs)\u001b[39m\n\u001b[32m    158\u001b[39m \u001b[38;5;28;01mdef\u001b[39;00m\u001b[38;5;250m \u001b[39m\u001b[34m_upsert_batch\u001b[39m(\n\u001b[32m    159\u001b[39m     \u001b[38;5;28mself\u001b[39m,\n\u001b[32m    160\u001b[39m     vectors: Union[\n\u001b[32m   (...)\u001b[39m\u001b[32m    165\u001b[39m     **kwargs,\n\u001b[32m    166\u001b[39m ) -> UpsertResponse:\n\u001b[32m    167\u001b[39m     \u001b[38;5;28;01mreturn\u001b[39;00m \u001b[38;5;28mself\u001b[39m._vector_api.upsert_vectors(\n\u001b[32m--> \u001b[39m\u001b[32m168\u001b[39m         \u001b[43mIndexRequestFactory\u001b[49m\u001b[43m.\u001b[49m\u001b[43mupsert_request\u001b[49m\u001b[43m(\u001b[49m\u001b[43mvectors\u001b[49m\u001b[43m,\u001b[49m\u001b[43m \u001b[49m\u001b[43mnamespace\u001b[49m\u001b[43m,\u001b[49m\u001b[43m \u001b[49m\u001b[43m_check_type\u001b[49m\u001b[43m,\u001b[49m\u001b[43m \u001b[49m\u001b[43m*\u001b[49m\u001b[43m*\u001b[49m\u001b[43mkwargs\u001b[49m\u001b[43m)\u001b[49m,\n\u001b[32m    169\u001b[39m         **\u001b[38;5;28mself\u001b[39m._openapi_kwargs(kwargs),\n\u001b[32m    170\u001b[39m     )\n",
      "\u001b[36mFile \u001b[39m\u001b[32md:\\Disrupt Labs\\Rag Experiments\\env\\Lib\\site-packages\\pinecone\\data\\request_factory.py:93\u001b[39m, in \u001b[36mIndexRequestFactory.upsert_request\u001b[39m\u001b[34m(vectors, namespace, _check_type, **kwargs)\u001b[39m\n\u001b[32m     89\u001b[39m \u001b[38;5;28;01mdef\u001b[39;00m\u001b[38;5;250m \u001b[39m\u001b[34mvec_builder\u001b[39m(v):\n\u001b[32m     90\u001b[39m     \u001b[38;5;28;01mreturn\u001b[39;00m VectorFactory.build(v, check_type=_check_type)\n\u001b[32m     92\u001b[39m \u001b[38;5;28;01mreturn\u001b[39;00m UpsertRequest(\n\u001b[32m---> \u001b[39m\u001b[32m93\u001b[39m     vectors=\u001b[38;5;28;43mlist\u001b[39;49m\u001b[43m(\u001b[49m\u001b[38;5;28;43mmap\u001b[39;49m\u001b[43m(\u001b[49m\u001b[43mvec_builder\u001b[49m\u001b[43m,\u001b[49m\u001b[43m \u001b[49m\u001b[43mvectors\u001b[49m\u001b[43m)\u001b[49m\u001b[43m)\u001b[49m,\n\u001b[32m     94\u001b[39m     **args_dict,\n\u001b[32m     95\u001b[39m     _check_type=_check_type,\n\u001b[32m     96\u001b[39m     **non_openapi_kwargs(kwargs),\n\u001b[32m     97\u001b[39m )\n",
      "\u001b[36mFile \u001b[39m\u001b[32md:\\Disrupt Labs\\Rag Experiments\\env\\Lib\\site-packages\\pinecone\\data\\request_factory.py:90\u001b[39m, in \u001b[36mIndexRequestFactory.upsert_request.<locals>.vec_builder\u001b[39m\u001b[34m(v)\u001b[39m\n\u001b[32m     89\u001b[39m \u001b[38;5;28;01mdef\u001b[39;00m\u001b[38;5;250m \u001b[39m\u001b[34mvec_builder\u001b[39m(v):\n\u001b[32m---> \u001b[39m\u001b[32m90\u001b[39m     \u001b[38;5;28;01mreturn\u001b[39;00m \u001b[43mVectorFactory\u001b[49m\u001b[43m.\u001b[49m\u001b[43mbuild\u001b[49m\u001b[43m(\u001b[49m\u001b[43mv\u001b[49m\u001b[43m,\u001b[49m\u001b[43m \u001b[49m\u001b[43mcheck_type\u001b[49m\u001b[43m=\u001b[49m\u001b[43m_check_type\u001b[49m\u001b[43m)\u001b[49m\n",
      "\u001b[36mFile \u001b[39m\u001b[32md:\\Disrupt Labs\\Rag Experiments\\env\\Lib\\site-packages\\pinecone\\data\\vector_factory.py:50\u001b[39m, in \u001b[36mVectorFactory.build\u001b[39m\u001b[34m(item, check_type)\u001b[39m\n\u001b[32m     48\u001b[39m     \u001b[38;5;28;01mreturn\u001b[39;00m VectorFactory._tuple_to_vector(item, check_type)\n\u001b[32m     49\u001b[39m \u001b[38;5;28;01melif\u001b[39;00m \u001b[38;5;28misinstance\u001b[39m(item, Mapping):\n\u001b[32m---> \u001b[39m\u001b[32m50\u001b[39m     \u001b[38;5;28;01mreturn\u001b[39;00m \u001b[43mVectorFactory\u001b[49m\u001b[43m.\u001b[49m\u001b[43m_dict_to_vector\u001b[49m\u001b[43m(\u001b[49m\u001b[43mitem\u001b[49m\u001b[43m,\u001b[49m\u001b[43m \u001b[49m\u001b[43mcheck_type\u001b[49m\u001b[43m)\u001b[49m\n\u001b[32m     51\u001b[39m \u001b[38;5;28;01melse\u001b[39;00m:\n\u001b[32m     52\u001b[39m     \u001b[38;5;28;01mraise\u001b[39;00m \u001b[38;5;167;01mValueError\u001b[39;00m(\u001b[33mf\u001b[39m\u001b[33m\"\u001b[39m\u001b[33mInvalid vector value passed: cannot interpret type \u001b[39m\u001b[38;5;132;01m{\u001b[39;00m\u001b[38;5;28mtype\u001b[39m(item)\u001b[38;5;132;01m}\u001b[39;00m\u001b[33m\"\u001b[39m)\n",
      "\u001b[36mFile \u001b[39m\u001b[32md:\\Disrupt Labs\\Rag Experiments\\env\\Lib\\site-packages\\pinecone\\data\\vector_factory.py:88\u001b[39m, in \u001b[36mVectorFactory._dict_to_vector\u001b[39m\u001b[34m(item, check_type)\u001b[39m\n\u001b[32m     86\u001b[39m values = item.get(\u001b[33m\"\u001b[39m\u001b[33mvalues\u001b[39m\u001b[33m\"\u001b[39m)\n\u001b[32m     87\u001b[39m \u001b[38;5;28;01mif\u001b[39;00m \u001b[33m\"\u001b[39m\u001b[33mvalues\u001b[39m\u001b[33m\"\u001b[39m \u001b[38;5;129;01min\u001b[39;00m item:\n\u001b[32m---> \u001b[39m\u001b[32m88\u001b[39m     item[\u001b[33m\"\u001b[39m\u001b[33mvalues\u001b[39m\u001b[33m\"\u001b[39m] = \u001b[43mconvert_to_list\u001b[49m\u001b[43m(\u001b[49m\u001b[43mvalues\u001b[49m\u001b[43m)\u001b[49m\n\u001b[32m     89\u001b[39m \u001b[38;5;28;01melse\u001b[39;00m:\n\u001b[32m     90\u001b[39m     item[\u001b[33m\"\u001b[39m\u001b[33mvalues\u001b[39m\u001b[33m\"\u001b[39m] = []\n",
      "\u001b[36mFile \u001b[39m\u001b[32md:\\Disrupt Labs\\Rag Experiments\\env\\Lib\\site-packages\\pinecone\\utils\\convert_to_list.py:14\u001b[39m, in \u001b[36mconvert_to_list\u001b[39m\u001b[34m(obj)\u001b[39m\n\u001b[32m     10\u001b[39m     \u001b[38;5;28;01mreturn\u001b[39;00m obj.tolist()\n\u001b[32m     11\u001b[39m \u001b[38;5;28;01melif\u001b[39;00m obj \u001b[38;5;129;01mis\u001b[39;00m \u001b[38;5;28;01mNone\u001b[39;00m \u001b[38;5;129;01mor\u001b[39;00m \u001b[38;5;28misinstance\u001b[39m(obj, \u001b[38;5;28mstr\u001b[39m) \u001b[38;5;129;01mor\u001b[39;00m \u001b[38;5;28misinstance\u001b[39m(obj, \u001b[38;5;28mdict\u001b[39m):\n\u001b[32m     12\u001b[39m     \u001b[38;5;66;03m# The string and dictionary classes in python can be passed to list()\u001b[39;00m\n\u001b[32m     13\u001b[39m     \u001b[38;5;66;03m# but they're not going to yield sensible results for our use case.\u001b[39;00m\n\u001b[32m---> \u001b[39m\u001b[32m14\u001b[39m     \u001b[38;5;28;01mraise\u001b[39;00m ListConversionException(\n\u001b[32m     15\u001b[39m         \u001b[33mf\u001b[39m\u001b[33m\"\u001b[39m\u001b[33mExpected a list or list-like data structure, but got: \u001b[39m\u001b[38;5;132;01m{\u001b[39;00mobj\u001b[38;5;132;01m}\u001b[39;00m\u001b[33m\"\u001b[39m\n\u001b[32m     16\u001b[39m     )\n\u001b[32m     17\u001b[39m \u001b[38;5;28;01melse\u001b[39;00m:\n\u001b[32m     18\u001b[39m     \u001b[38;5;28;01mtry\u001b[39;00m:\n",
      "\u001b[31mListConversionException\u001b[39m: Expected a list or list-like data structure, but got: Link Layer\nCOMPSCI 453 Computer Networks\nProfessor Jim Kurose\nCollege of Information and Computer Sciences\nUniversity of Massachusetts\nClass textbook:\nComputer Networking: A Top-\nDown Approach (8th ed.)\nJ.F. Kurose, K.W . Ross\nPearson, 2020\nhttp://gaia.cs.umass.edu/kurose_ross\nVideo:     2020, J.F. Kurose, All Rights Reserved\nPowerpoint:    1996-2020, J.F. Kurose, K.W. Ross, All Rights Reserved\n Introduction to the Link Layer\n Error-detection and -correction Techniques\n Multiple Access Links and Protocols\n Switched Local Area Networks\n Link Virtualization: a Network as a Link Layer\n Data Center Networking\n Retrospective: A Day in the Life of a Web Page Request"
     ]
    }
   ],
   "source": [
    "import itertools\n",
    "\n",
    "index = pc.Index(host=\"https://llama-text-embed-v2-ai-chatbot-xjnfxjq.svc.aped-4627-b74a.pinecone.io\")\n",
    "\n",
    "def chunker(iterable, batch_size=200):\n",
    "    \"\"\"A helper function to break an iterable into chunks of size batch_size.\"\"\"\n",
    "    it = iter(iterable)\n",
    "    chunk = tuple(itertools.islice(it, batch_size))\n",
    "    while chunk:\n",
    "        yield chunk\n",
    "        chunk = tuple(itertools.islice(it, batch_size))\n",
    "\n",
    "# # Function to upsert chunks to Pinecone\n",
    "def upsert_chunks_to_pinecone(chunks, index_name=\"test-index\"):\n",
    "    for i, chunk in enumerate(chunks):\n",
    "        # Prepare the data for upserting\n",
    "        vectors = []\n",
    "        vector = {\n",
    "            \"id\": f\"chunk-{i}\",          # Unique ID for each chunk\n",
    "            \"values\": chunk.page_content,  # The chunk content (this will be embedded automatically)\n",
    "            \"metadata\": chunk.metadata  # Optional: Store any metadata (e.g., page numbers)\n",
    "        }\n",
    "        vectors.append(vector)\n",
    "        # Upsert the chunk into Pinecone\n",
    "        # pc.upsert(\n",
    "        #     index=index_name,\n",
    "        #     vectors=[vector]  # We pass a list of vectors, here it's just one\n",
    "        # )\n",
    "    # Upsert data with 200 vectors per upsert request\n",
    "    # for ids_vectors_chunk in chunker(vectors, batch_size=200):\n",
    "    #     index.upsert(vectors=ids_vectors_chunk}) \n",
    "    index.upsert_records(vectors)\n",
    "\n",
    "# Upsert the chunks to Pinecone\n",
    "upsert_chunks_to_pinecone(chunks)\n",
    "\n",
    "\n"
   ]
  }
 ],
 "metadata": {
  "kernelspec": {
   "display_name": "env",
   "language": "python",
   "name": "python3"
  },
  "language_info": {
   "codemirror_mode": {
    "name": "ipython",
    "version": 3
   },
   "file_extension": ".py",
   "mimetype": "text/x-python",
   "name": "python",
   "nbconvert_exporter": "python",
   "pygments_lexer": "ipython3",
   "version": "3.12.0"
  }
 },
 "nbformat": 4,
 "nbformat_minor": 2
}
